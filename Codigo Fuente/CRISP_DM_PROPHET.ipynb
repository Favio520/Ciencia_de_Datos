{
 "cells": [
  {
   "cell_type": "markdown",
   "metadata": {
    "id": "Ce07l72_NR_S"
   },
   "source": [
    "# Proyecto de Ciencia de datos\n",
    "**Proyecto**: Modelos Predictivos para la Estimación de Ventas de un Hotel\n",
    "Resort en un Contexto de Crisis Económica       \n",
    "**Estudiante**: Favio Rafael Guerra Calle                                                 \n",
    "**Carrera**: Lic.Ingenieria Informatica\n"
   ]
  },
  {
   "cell_type": "markdown",
   "metadata": {
    "id": "G8ZN29W9OUg3"
   },
   "source": [
    "## **Fase 1**: Comprension del Negocio"
   ]
  },
  {
   "cell_type": "markdown",
   "metadata": {
    "id": "oxYX2gL-XMbT"
   },
   "source": [
    "Realizar predicciones de desempeño a futuro de las ventas de un hotel resort en un contexto de crisis económica, mediante el uso de modelos predictivos con el fin de apoyar la toma de decisiones estratégicas y evaluar la viabilidad del negocio.\n"
   ]
  },
  {
   "cell_type": "markdown",
   "metadata": {
    "id": "dmOxG9scOdME"
   },
   "source": [
    "## **Fase 2**: Comprension de los Datos"
   ]
  },
  {
   "cell_type": "markdown",
   "metadata": {
    "id": "mNMSwJH5RRLB"
   },
   "source": [
    " **Hotel Resort**"
   ]
  },
  {
   "cell_type": "markdown",
   "metadata": {
    "id": "WhOKrEbRPaFo"
   },
   "source": [
    "Importacion de librerias inicial"
   ]
  },
  {
   "cell_type": "code",
   "execution_count": null,
   "metadata": {},
   "outputs": [],
   "source": [
    "pip install prophet"
   ]
  },
  {
   "cell_type": "code",
   "execution_count": null,
   "metadata": {
    "id": "OUmZ9ULOPXwj"
   },
   "outputs": [],
   "source": [
    "import pandas as pd\n",
    "import numpy as np\n",
    "from prophet import Prophet\n",
    "from sklearn.metrics import mean_squared_error, mean_absolute_error\n",
    "import matplotlib.pyplot as plt\n",
    "import seaborn as sns\n",
    "import statsmodels.api as sm"
   ]
  },
  {
   "cell_type": "markdown",
   "metadata": {
    "id": "hKYhpB5nPm98"
   },
   "source": [
    "Carga de datos"
   ]
  },
  {
   "cell_type": "code",
   "execution_count": null,
   "metadata": {
    "id": "ZeUiyaxg0URQ"
   },
   "outputs": [],
   "source": [
    "df = pd.read_excel(r\"../Data_Source/HotelResort.xlsx\")"
   ]
  },
  {
   "cell_type": "code",
   "execution_count": null,
   "metadata": {
    "colab": {
     "base_uri": "https://localhost:8080/"
    },
    "id": "cLh4yo5QRGIG",
    "outputId": "54e21400-6034-4d11-804c-574c6ab7f9b4"
   },
   "outputs": [],
   "source": [
    "print(df.columns)"
   ]
  },
  {
   "cell_type": "code",
   "execution_count": null,
   "metadata": {
    "id": "j5WOURAMRJsz"
   },
   "outputs": [],
   "source": [
    "df = df.rename(columns={'Fecha Actual': 'Fecha', 'TOTAL FACTURA': 'TotalFactura'})"
   ]
  },
  {
   "cell_type": "code",
   "execution_count": null,
   "metadata": {
    "id": "yMzwlbSJcNxY"
   },
   "outputs": [],
   "source": [
    "df = df[['Fecha', 'TotalFactura']]"
   ]
  },
  {
   "cell_type": "markdown",
   "metadata": {
    "id": "dInTGm1JcRjR"
   },
   "source": [
    "Convierte a formato fecha"
   ]
  },
  {
   "cell_type": "code",
   "execution_count": null,
   "metadata": {
    "id": "VzqYIb0BcPpV"
   },
   "outputs": [],
   "source": [
    "df['Fecha'] = pd.to_datetime(df['Fecha'], errors='coerce')\n",
    "df['TotalFactura'] = pd.to_numeric(df['TotalFactura'], errors='coerce')"
   ]
  },
  {
   "cell_type": "markdown",
   "metadata": {
    "id": "V2HRPZ7ZciUB"
   },
   "source": [
    "Elimina filas con valores nulos"
   ]
  },
  {
   "cell_type": "code",
   "execution_count": null,
   "metadata": {
    "colab": {
     "base_uri": "https://localhost:8080/"
    },
    "id": "GM8zro-ycUKa",
    "outputId": "f0ed813c-568f-4960-af54-371bd64f4a2d"
   },
   "outputs": [],
   "source": [
    "print(df.isnull().sum())\n",
    "df.dropna(subset=['Fecha', 'TotalFactura'], inplace=True)"
   ]
  },
  {
   "cell_type": "markdown",
   "metadata": {
    "id": "Xa9CybPdcmwV"
   },
   "source": [
    "Media, mediana, desviación estándar"
   ]
  },
  {
   "cell_type": "code",
   "execution_count": null,
   "metadata": {
    "colab": {
     "base_uri": "https://localhost:8080/"
    },
    "id": "uHyvgGPBck83",
    "outputId": "5d7f03ce-18cf-4a25-9560-4186694e97a0"
   },
   "outputs": [],
   "source": [
    "print(df['TotalFactura'].describe())"
   ]
  },
  {
   "cell_type": "code",
   "execution_count": null,
   "metadata": {
    "colab": {
     "base_uri": "https://localhost:8080/",
     "height": 147
    },
    "id": "9tD_nMxecoyO",
    "outputId": "86742bcc-89f2-4cf8-b3ac-83d3c99b0795"
   },
   "outputs": [],
   "source": [
    "df.count()"
   ]
  },
  {
   "cell_type": "code",
   "execution_count": null,
   "metadata": {
    "colab": {
     "base_uri": "https://localhost:8080/",
     "height": 410
    },
    "id": "8qZvakME50Ud",
    "outputId": "fed7e3b4-d304-4f0a-b610-5aa9b12e3033"
   },
   "outputs": [],
   "source": [
    "plt.figure(figsize=(8, 4))\n",
    "sns.histplot(df['TotalFactura'], bins=50, color='skyblue')\n",
    "plt.title('Distribución del Total de Facturas')\n",
    "plt.xlabel('Monto de la Factura')\n",
    "plt.ylabel('Frecuencia')\n",
    "plt.show()"
   ]
  },
  {
   "cell_type": "code",
   "execution_count": null,
   "metadata": {
    "colab": {
     "base_uri": "https://localhost:8080/",
     "height": 412
    },
    "id": "Y97I_Tka5l9n",
    "outputId": "6c724f96-1115-4268-b05e-531a86eeed74"
   },
   "outputs": [],
   "source": [
    "plt.figure(figsize=(20, 5))\n",
    "plt.plot(df.index, df['TotalFactura'], marker='o', color='blue')\n",
    "plt.title('Evolución del Total de Facturas a lo Largo del Tiempo')\n",
    "plt.xlabel('Fecha')\n",
    "plt.ylabel('Monto de la Factura')\n",
    "plt.grid(True)\n",
    "plt.xticks(rotation=45)\n",
    "plt.show()"
   ]
  },
  {
   "cell_type": "code",
   "execution_count": null,
   "metadata": {
    "colab": {
     "base_uri": "https://localhost:8080/"
    },
    "id": "6jD1Tea05-dB",
    "outputId": "640489fb-8f5d-408d-b5ba-49d8d4e2db15"
   },
   "outputs": [],
   "source": [
    "Q1 = df['TotalFactura'].quantile(0.25)\n",
    "Q3 = df['TotalFactura'].quantile(0.75)\n",
    "IQR = Q3 - Q1\n",
    "lower_bound = Q1 - 1.5 * IQR\n",
    "upper_bound = Q3 + 1.5 * IQR\n",
    "\n",
    "outliers = df[(df['TotalFactura'] < lower_bound) | (df['TotalFactura'] > upper_bound)]\n",
    "num_outliers = len(outliers)\n",
    "\n",
    "print(f\"There are {num_outliers} outliers in TotalFactura.\")"
   ]
  },
  {
   "cell_type": "markdown",
   "metadata": {
    "id": "b64sKzhMcwh5"
   },
   "source": [
    "Agrupar las fechas iguales"
   ]
  },
  {
   "cell_type": "markdown",
   "metadata": {
    "id": "FKgpGLjhQDT6"
   },
   "source": [
    "## **Fase 3**: Preparacion de los Datos"
   ]
  },
  {
   "cell_type": "markdown",
   "metadata": {
    "id": "I_TqDV4gRgyU"
   },
   "source": [
    " **Hotel Resort**"
   ]
  },
  {
   "cell_type": "markdown",
   "metadata": {
    "id": "dAwa9iNnc66j"
   },
   "source": [
    "Agrupar las fechas iguales"
   ]
  },
  {
   "cell_type": "code",
   "execution_count": null,
   "metadata": {
    "id": "Ms0g_VYARkST"
   },
   "outputs": [],
   "source": [
    "df = df.groupby('Fecha').sum()"
   ]
  },
  {
   "cell_type": "code",
   "execution_count": null,
   "metadata": {
    "id": "-wpDPRVKc8oZ"
   },
   "outputs": [],
   "source": [
    "rango_completo = pd.date_range(\n",
    "    start=df.index.min(),\n",
    "    end=df.index.max(),\n",
    "    freq='D'\n",
    ")"
   ]
  },
  {
   "cell_type": "code",
   "execution_count": null,
   "metadata": {
    "id": "KDuUkpw8c-zi"
   },
   "outputs": [],
   "source": [
    "df = df.reindex(rango_completo)"
   ]
  },
  {
   "cell_type": "code",
   "execution_count": null,
   "metadata": {
    "id": "2bquGUZ4dAV5"
   },
   "outputs": [],
   "source": [
    "df['TotalFactura'] = df['TotalFactura'].fillna(0)"
   ]
  },
  {
   "cell_type": "code",
   "execution_count": null,
   "metadata": {
    "id": "vVpGylzEdGPB"
   },
   "outputs": [],
   "source": [
    "df = df.resample('W').sum()"
   ]
  },
  {
   "cell_type": "code",
   "execution_count": null,
   "metadata": {
    "id": "TeK5EFh_pLYt"
   },
   "outputs": [],
   "source": [
    "Q1 = df['TotalFactura'].quantile(0.25)\n",
    "Q3 = df['TotalFactura'].quantile(0.75)\n",
    "IQR = Q3 - Q1\n",
    "lower_bound = Q1 - 1.5 * IQR\n",
    "upper_bound = Q3 + 1.5 * IQR\n",
    "\n",
    "# Detectar outliers\n",
    "outliers = df[(df['TotalFactura'] < lower_bound) | (df['TotalFactura'] > upper_bound)]\n",
    "\n",
    "# Seleccionar los outliers significativos\n",
    "outliers_top4 = outliers.reindex(outliers['TotalFactura'].abs().sort_values(ascending=False).index[:3])\n"
   ]
  },
  {
   "cell_type": "code",
   "execution_count": null,
   "metadata": {
    "id": "UV5Jj3ropNkK"
   },
   "outputs": [],
   "source": [
    "for i in range(len(outliers_top4)):\n",
    "    idx = outliers_top4.index[i]\n",
    "    # Opción 1: reemplazo por la media de los vecinos anteriores y posteriores\n",
    "    prev_idx = df.index[df.index.get_loc(idx) - 1] if df.index.get_loc(idx) - 1 >= 0 else df.index[0]\n",
    "    next_idx = df.index[df.index.get_loc(idx) + 1] if df.index.get_loc(idx) + 1 < len(df) else df.index[-1]\n",
    "\n",
    "    prev_val = df['TotalFactura'].loc[prev_idx]\n",
    "    next_val = df['TotalFactura'].loc[next_idx]\n",
    "    suavizado = (prev_val + next_val) / 2\n",
    "\n",
    "    df.at[idx, 'TotalFactura'] = suavizado"
   ]
  },
  {
   "cell_type": "code",
   "execution_count": null,
   "metadata": {
    "colab": {
     "base_uri": "https://localhost:8080/",
     "height": 425
    },
    "id": "zU59mQaYpRUp",
    "outputId": "51c80da9-5e87-43c1-cb10-19ab3a97e927"
   },
   "outputs": [],
   "source": [
    "plt.figure(figsize=(20, 5))\n",
    "plt.plot(df.index, df['TotalFactura'], marker='o', color='blue')\n",
    "plt.title('Evolución del Total de Facturas a lo Largo del Tiempo')\n",
    "plt.xlabel('Fecha')\n",
    "plt.ylabel('Monto de la Factura')\n",
    "plt.grid(True)\n",
    "plt.xticks(rotation=45)\n",
    "plt.show()"
   ]
  },
  {
   "cell_type": "code",
   "execution_count": null,
   "metadata": {
    "colab": {
     "base_uri": "https://localhost:8080/"
    },
    "id": "rMsRnF5Jjtlb",
    "outputId": "ba82edd0-4e8e-46d0-cf58-605cfed60e56"
   },
   "outputs": [],
   "source": [
    "df_prophet = df.reset_index().rename(columns={'Fecha': 'ds', 'TotalFactura': 'y'})\n",
    "df_prophet = df_prophet.rename(columns={df_prophet.columns[0]: 'ds'})\n",
    "df_prophet['ds'] = pd.to_datetime(df_prophet['ds'])\n",
    "\n",
    "print(df_prophet.tail())"
   ]
  },
  {
   "cell_type": "code",
   "execution_count": null,
   "metadata": {
    "id": "x38mWDdzg9qx"
   },
   "outputs": [],
   "source": [
    "df_prophet = df_prophet.set_index('ds').ffill().reset_index()"
   ]
  },
  {
   "cell_type": "markdown",
   "metadata": {
    "id": "m3kWrHAcdZmR"
   },
   "source": [
    "**Exploracion de Datos**"
   ]
  },
  {
   "cell_type": "code",
   "execution_count": null,
   "metadata": {
    "colab": {
     "base_uri": "https://localhost:8080/",
     "height": 115
    },
    "id": "V9kBr8k86DQa",
    "outputId": "966f1ccb-5c3b-495a-cf51-43ff1f4dcdd0"
   },
   "outputs": [],
   "source": [
    "df.count()"
   ]
  },
  {
   "cell_type": "code",
   "execution_count": null,
   "metadata": {
    "colab": {
     "base_uri": "https://localhost:8080/",
     "height": 410
    },
    "id": "26KTF7eudakl",
    "outputId": "fac31270-3bbf-45ef-d42d-30e6d12b5bbd"
   },
   "outputs": [],
   "source": [
    "plt.figure(figsize=(8, 4))\n",
    "sns.histplot(df['TotalFactura'], bins=50, color='skyblue')\n",
    "plt.title('Distribución del Total de Facturas')\n",
    "plt.xlabel('Monto de la Factura')\n",
    "plt.ylabel('Frecuencia')\n",
    "plt.show()"
   ]
  },
  {
   "cell_type": "code",
   "execution_count": null,
   "metadata": {
    "id": "CpeGL88odhE7"
   },
   "outputs": [],
   "source": []
  },
  {
   "cell_type": "code",
   "execution_count": null,
   "metadata": {
    "colab": {
     "base_uri": "https://localhost:8080/",
     "height": 503
    },
    "id": "6D_amV5ldlNh",
    "outputId": "4319a1e0-b878-4fd0-c5b9-3cfcfadd06f8"
   },
   "outputs": [],
   "source": [
    "df.sort_index(inplace=True)\n",
    "df['TotalFactura'].resample('ME').sum().plot(title='Total de Facturas por Mes', figsize=(10, 5))\n",
    "plt.ylabel('Monto Total')\n",
    "plt.xlabel('Mes')\n",
    "plt.grid(True)\n",
    "plt.show()"
   ]
  },
  {
   "cell_type": "code",
   "execution_count": null,
   "metadata": {
    "colab": {
     "base_uri": "https://localhost:8080/",
     "height": 433
    },
    "id": "sEsZ8OmCdpkA",
    "outputId": "6b860753-33a5-471c-c59c-932e74fad711"
   },
   "outputs": [],
   "source": [
    "sns.boxplot(df['TotalFactura'])\n",
    "plt.title('Boxplot del Total de Facturas')\n",
    "plt.show()"
   ]
  },
  {
   "cell_type": "markdown",
   "metadata": {
    "id": "EchUcNyldx9e"
   },
   "source": [
    "Revizamos los outliers pero no se eliminara debido a la importancia de los mismos"
   ]
  },
  {
   "cell_type": "code",
   "execution_count": null,
   "metadata": {
    "colab": {
     "base_uri": "https://localhost:8080/"
    },
    "id": "d42joDJjdru7",
    "outputId": "9cd12a19-e444-40a7-fed3-0a5b2a2cfc65"
   },
   "outputs": [],
   "source": [
    "Q1 = df['TotalFactura'].quantile(0.25)\n",
    "Q3 = df['TotalFactura'].quantile(0.75)\n",
    "IQR = Q3 - Q1\n",
    "lower_bound = Q1 - 1.5 * IQR\n",
    "upper_bound = Q3 + 1.5 * IQR\n",
    "\n",
    "outliers = df[(df['TotalFactura'] < lower_bound) | (df['TotalFactura'] > upper_bound)]\n",
    "num_outliers = len(outliers)\n",
    "\n",
    "print(f\"HAY {num_outliers} outliers en TotalFactura.\")"
   ]
  },
  {
   "cell_type": "code",
   "execution_count": null,
   "metadata": {
    "colab": {
     "base_uri": "https://localhost:8080/",
     "height": 425
    },
    "id": "G4Kv-CSVnYsW",
    "outputId": "49121a32-66a9-4fae-b950-6d2e79907f6e"
   },
   "outputs": [],
   "source": [
    "plt.figure(figsize=(20, 5))\n",
    "plt.plot(df.index, df['TotalFactura'], marker='o', color='blue')\n",
    "plt.title('Evolución del Total de Facturas a lo Largo del Tiempo')\n",
    "plt.xlabel('Fecha')\n",
    "plt.ylabel('Monto de la Factura')\n",
    "plt.grid(True)\n",
    "plt.xticks(rotation=45)\n",
    "plt.show()"
   ]
  },
  {
   "cell_type": "markdown",
   "metadata": {
    "id": "H1vEphKNh79y"
   },
   "source": [
    "Revision de autocorrelacion"
   ]
  },
  {
   "cell_type": "code",
   "execution_count": null,
   "metadata": {
    "id": "K4tsj-i5jC8g"
   },
   "outputs": [],
   "source": [
    "df_prophet = df_prophet.set_index('ds').ffill().reset_index()"
   ]
  },
  {
   "cell_type": "markdown",
   "metadata": {
    "id": "OH_ONHlVjW6Z"
   },
   "source": [
    "Transformacion de Datos para estacionalidad"
   ]
  },
  {
   "cell_type": "markdown",
   "metadata": {
    "id": "Zz9iP3QnlGGq"
   },
   "source": [
    "**Transformaciones Y Division de datos**"
   ]
  },
  {
   "cell_type": "markdown",
   "metadata": {
    "id": "Yhi4mTWm-KCV"
   },
   "source": [
    "Division\n"
   ]
  },
  {
   "cell_type": "code",
   "execution_count": null,
   "metadata": {
    "id": "-ZKVlJ2Z-MqL"
   },
   "outputs": [],
   "source": [
    "train_size = int(len(df_prophet) * 0.80)\n",
    "train = df_prophet[:train_size]\n",
    "test = df_prophet[train_size:]"
   ]
  },
  {
   "cell_type": "code",
   "execution_count": null,
   "metadata": {
    "id": "CtkexGUwi8kX"
   },
   "outputs": [],
   "source": [
    "train_configurado = df_prophet[:train_size]\n",
    "test_configurado = df_prophet[train_size:]\n",
    "df_configurado = df_prophet.copy()"
   ]
  },
  {
   "cell_type": "markdown",
   "metadata": {
    "id": "tbOYsavQt1N2"
   },
   "source": [
    "Variables exogenas"
   ]
  },
  {
   "cell_type": "code",
   "execution_count": null,
   "metadata": {
    "id": "47SGnjMrt0bO"
   },
   "outputs": [],
   "source": [
    "festivos = pd.DataFrame({\n",
    "    'holiday': 'CierreHotel',\n",
    "    'ds': pd.to_datetime(['2022-05-21', '2022-07-22']),\n",
    "    'lower_window': -30,  # Efecto comienza\n",
    "    'upper_window': 10,   # Termina\n",
    "})"
   ]
  },
  {
   "cell_type": "markdown",
   "metadata": {
    "id": "KFGHqGQylQxK"
   },
   "source": [
    "Cuadratica"
   ]
  },
  {
   "cell_type": "markdown",
   "metadata": {
    "id": "Wbmy4STRP6oS"
   },
   "source": [
    "## **Fase 4**: Modelamiento"
   ]
  },
  {
   "cell_type": "markdown",
   "metadata": {
    "id": "cqLiNQi7k59C"
   },
   "source": [
    "### **PROPHET BASICO**"
   ]
  },
  {
   "cell_type": "code",
   "execution_count": null,
   "metadata": {
    "colab": {
     "base_uri": "https://localhost:8080/"
    },
    "id": "0AFOpB-0j96B",
    "outputId": "94841f30-300c-4196-baba-8a1d3c1b8665"
   },
   "outputs": [],
   "source": [
    "modelo = Prophet()\n",
    "modelo.fit(train)"
   ]
  },
  {
   "cell_type": "code",
   "execution_count": null,
   "metadata": {
    "id": "EPn9DyHvpso_"
   },
   "outputs": [],
   "source": [
    "future = test[['ds']].copy()\n",
    "forecast = modelo.predict(future)"
   ]
  },
  {
   "cell_type": "markdown",
   "metadata": {
    "id": "qykICTTbB9mz"
   },
   "source": [
    "### **PROPHET CONFIGURADO**"
   ]
  },
  {
   "cell_type": "code",
   "execution_count": null,
   "metadata": {
    "colab": {
     "base_uri": "https://localhost:8080/"
    },
    "id": "1XMVubYGh5im",
    "outputId": "ac9d62e8-8d7f-4a3e-a301-80add445d58a"
   },
   "outputs": [],
   "source": [
    "model_configurado = Prophet(\n",
    "    growth='linear',\n",
    "    seasonality_prior_scale=0.1,\n",
    "    changepoint_prior_scale=0.1,\n",
    "    holidays=festivos,\n",
    "    holidays_prior_scale=15,\n",
    "    weekly_seasonality=3,\n",
    "    yearly_seasonality=True,\n",
    ")\n",
    "model_configurado.fit(train_configurado)"
   ]
  },
  {
   "cell_type": "markdown",
   "metadata": {
    "id": "IqOmMc5DuSsb"
   },
   "source": [
    "prediccion"
   ]
  },
  {
   "cell_type": "code",
   "execution_count": null,
   "metadata": {
    "id": "H8ede6p2uRJe"
   },
   "outputs": [],
   "source": [
    "future_configurado = model_configurado.make_future_dataframe(periods=len(test), freq='W')\n",
    "forecast_configurado = model_configurado.predict(future_configurado)"
   ]
  },
  {
   "cell_type": "markdown",
   "metadata": {
    "id": "30xYX0tIvTCL"
   },
   "source": [
    "### **PROPHET HIBRIDO**"
   ]
  },
  {
   "cell_type": "code",
   "execution_count": null,
   "metadata": {
    "colab": {
     "base_uri": "https://localhost:8080/"
    },
    "id": "BJrbMk2PvUTL",
    "outputId": "a219adf1-1777-4bb3-d6c5-dea43c6f3a5a"
   },
   "outputs": [],
   "source": [
    "modelo_hibrido = Prophet(\n",
    "    growth='linear',\n",
    "    seasonality_prior_scale=0.1,\n",
    "    changepoint_prior_scale=0.1,\n",
    "    holidays=festivos,\n",
    "    holidays_prior_scale=15,\n",
    "    #weekly_seasonality=True,\n",
    "    weekly_seasonality=3,\n",
    "    yearly_seasonality=True,)\n",
    "modelo_hibrido.fit(train)"
   ]
  },
  {
   "cell_type": "markdown",
   "metadata": {
    "id": "-OxLLb3igod5"
   },
   "source": [
    "predicciones"
   ]
  },
  {
   "cell_type": "code",
   "execution_count": null,
   "metadata": {
    "id": "6BQ92mF3eNEP"
   },
   "outputs": [],
   "source": [
    "hibrido_future = modelo_hibrido.make_future_dataframe(periods=len(test), freq='W')\n",
    "hibrido_forecast = modelo_hibrido.predict(hibrido_future)"
   ]
  },
  {
   "cell_type": "code",
   "execution_count": null,
   "metadata": {
    "id": "4-Ue_5xuhbai"
   },
   "outputs": [],
   "source": [
    "df_prophet = pd.merge(df_prophet, hibrido_forecast[['ds', 'yhat']], on='ds')\n",
    "df_prophet['hibrido_yhat_prophet'] = df_prophet['yhat']\n",
    "df_prophet['hibrido_residual'] = df_prophet['y'] - df_prophet['hibrido_yhat_prophet']"
   ]
  },
  {
   "cell_type": "markdown",
   "metadata": {
    "id": "AKA63gQienRr"
   },
   "source": [
    "**FNN**"
   ]
  },
  {
   "cell_type": "code",
   "execution_count": null,
   "metadata": {
    "id": "mX4PIRMDeq5d"
   },
   "outputs": [],
   "source": [
    "df_prophet['hibrido_ds_ordinal'] = pd.to_datetime(df_prophet['ds']).map(pd.Timestamp.toordinal)\n",
    "hibrido_X = df_prophet[['hibrido_ds_ordinal']].values\n",
    "hibrido_y_residual = df_prophet['hibrido_residual'].values"
   ]
  },
  {
   "cell_type": "markdown",
   "metadata": {
    "id": "6Sa3Zx9Qhli4"
   },
   "source": [
    "normalizacion"
   ]
  },
  {
   "cell_type": "code",
   "execution_count": null,
   "metadata": {
    "id": "4xVzy0p9hmp-"
   },
   "outputs": [],
   "source": [
    "from sklearn.preprocessing import MinMaxScaler\n",
    "hibrido_scaler = MinMaxScaler()\n",
    "hibrido_X_scaled = hibrido_scaler.fit_transform(hibrido_X)"
   ]
  },
  {
   "cell_type": "code",
   "execution_count": null,
   "metadata": {
    "colab": {
     "base_uri": "https://localhost:8080/"
    },
    "id": "wEuK2_IgetmF",
    "outputId": "c89893a8-e279-41b5-90ba-4460ec3e83d1"
   },
   "outputs": [],
   "source": [
    "from tensorflow.keras.models import Sequential\n",
    "from tensorflow.keras.layers import Dense\n",
    "from tensorflow.keras.optimizers import Adam\n",
    "from tensorflow.keras.layers import Dropout\n",
    "from tensorflow.keras.layers import BatchNormalization\n",
    "hibrido_model_fnn = Sequential()\n",
    "hibrido_model_fnn.add(Dense(128, input_dim=1, activation='relu'))\n",
    "hibrido_model_fnn.add(BatchNormalization())\n",
    "hibrido_model_fnn.add(Dropout(0.2))\n",
    "hibrido_model_fnn.add(Dense(64, activation='relu'))\n",
    "hibrido_model_fnn.add(BatchNormalization())\n",
    "hibrido_model_fnn.add(Dense(1))\n",
    "hibrido_model_fnn.compile(optimizer=Adam(learning_rate=0.005), loss='mse')\n",
    "\n",
    "# Entrenamiento\n",
    "hibrido_model_fnn.fit(hibrido_X_scaled[:train_size], hibrido_y_residual[:train_size], epochs=200, batch_size=32, verbose=0)"
   ]
  },
  {
   "cell_type": "markdown",
   "metadata": {
    "id": "CneRE7sEhw2B"
   },
   "source": [
    "predicciones"
   ]
  },
  {
   "cell_type": "code",
   "execution_count": null,
   "metadata": {
    "colab": {
     "base_uri": "https://localhost:8080/"
    },
    "id": "10YmyGRyhwQa",
    "outputId": "f318f306-be7f-4f32-bb6c-f6c4af6f08fa"
   },
   "outputs": [],
   "source": [
    "# Predicción de residuales\n",
    "hibrido_y_residual_pred = hibrido_model_fnn.predict(hibrido_X_scaled).flatten()\n",
    "df_prophet['hibrido_y_pred_final'] = df_prophet['hibrido_yhat_prophet'] + hibrido_y_residual_pred"
   ]
  },
  {
   "cell_type": "markdown",
   "metadata": {
    "id": "ja20Vzkamw15"
   },
   "source": [
    "**GP**"
   ]
  },
  {
   "cell_type": "code",
   "execution_count": null,
   "metadata": {
    "colab": {
     "base_uri": "https://localhost:8080/",
     "height": 208
    },
    "id": "9f5ZIkk7myNW",
    "outputId": "3951e960-6e76-4dda-f5c3-0963286c9129"
   },
   "outputs": [],
   "source": [
    "from sklearn.gaussian_process import GaussianProcessRegressor\n",
    "from sklearn.gaussian_process.kernels import RBF, WhiteKernel, ConstantKernel as C\n",
    "\n",
    "# Paso 1: Calcular nuevos residuos después de Prophet + FNN\n",
    "df_prophet['hibrido_residual_final'] = df_prophet['y'] - df_prophet['hibrido_y_pred_final']\n",
    "\n",
    "# Paso 2: Crear y entrenar el Gaussian Process\n",
    "hibrido_kernel = C(1.0, (1e-3, 1e3)) * RBF(length_scale=7.0, length_scale_bounds=(1e-2, 1e3)) + WhiteKernel(noise_level=1)\n",
    "hibrido_gp = GaussianProcessRegressor(kernel=hibrido_kernel, n_restarts_optimizer=10, alpha=0.1)\n",
    "hibrido_gp.fit(hibrido_X_scaled, df_prophet['hibrido_residual_final'])"
   ]
  },
  {
   "cell_type": "markdown",
   "metadata": {
    "id": "cIsoqFzBm4WH"
   },
   "source": [
    "Prediccion y suma al modelo final"
   ]
  },
  {
   "cell_type": "code",
   "execution_count": null,
   "metadata": {
    "id": "_6b5aa8Nm77T"
   },
   "outputs": [],
   "source": [
    "hibrido_residual_gp_train = hibrido_gp.predict(hibrido_X_scaled)\n",
    "\n",
    "df_prophet['hibrido_y_pred_full'] = df_prophet['hibrido_y_pred_final'] + hibrido_residual_gp_train"
   ]
  },
  {
   "cell_type": "markdown",
   "metadata": {
    "id": "nA0dFilAQVr3"
   },
   "source": [
    "## **Fase 5**: Evaluacion"
   ]
  },
  {
   "cell_type": "markdown",
   "metadata": {
    "id": "UI28VJFlR5Cc"
   },
   "source": [
    " **Hotel Resort**"
   ]
  },
  {
   "cell_type": "markdown",
   "metadata": {
    "id": "NYw-SviE8cYy"
   },
   "source": [
    "### **Resultados PROPHET**"
   ]
  },
  {
   "cell_type": "code",
   "execution_count": null,
   "metadata": {
    "id": "RVnHgTJMs5M8"
   },
   "outputs": [],
   "source": [
    "pred = forecast['yhat'].values\n",
    "real = test['y'].values"
   ]
  },
  {
   "cell_type": "code",
   "execution_count": null,
   "metadata": {
    "colab": {
     "base_uri": "https://localhost:8080/"
    },
    "id": "iFpYuEUH8iPA",
    "outputId": "6600ef18-fb60-4f31-f004-d4106643f6bc"
   },
   "outputs": [],
   "source": [
    "rmse = np.sqrt(mean_squared_error(real, pred))\n",
    "mae = mean_absolute_error(real, pred)\n",
    "mape = np.mean(np.abs((real - pred) / real)) * 100\n",
    "\n",
    "print(f\"\\nPROPHET - RMSE: {rmse:.2f}\")\n",
    "print(f\"PROPHET - MAE: {mae:.2f}\")\n",
    "print(f\"PROPHET - MAPE: {mape:.2f}%\")"
   ]
  },
  {
   "cell_type": "markdown",
   "metadata": {
    "id": "IUsOnK2wuh53"
   },
   "source": [
    "### **PROPHET CONFIGURADO**"
   ]
  },
  {
   "cell_type": "code",
   "execution_count": null,
   "metadata": {
    "id": "nQmJ7Wu-umIq"
   },
   "outputs": [],
   "source": [
    "results_conf = pd.merge(df_configurado, forecast_configurado[['ds', 'yhat']], on='ds')\n",
    "results_test = results_conf.iloc[train_size:]"
   ]
  },
  {
   "cell_type": "code",
   "execution_count": null,
   "metadata": {
    "colab": {
     "base_uri": "https://localhost:8080/"
    },
    "id": "w9aGMGipuvIt",
    "outputId": "89a6c7fa-c313-4478-f48a-a75cde0c7811"
   },
   "outputs": [],
   "source": [
    "rmse = np.sqrt(mean_squared_error(results_test['y'], results_test['yhat']))\n",
    "mae = mean_absolute_error(results_test['y'], results_test['yhat'])\n",
    "mape = np.mean(np.abs((results_test['y'] - results_test['yhat']) / results_test['y'])) * 100\n",
    "\n",
    "print(f\"PROPHET (configurado) - RMSE: {rmse:.2f}\")\n",
    "print(f\"PROPHET (configurado) - MAE: {mae:.2f}\")\n",
    "print(f\"PROPHET (configurado) - MAPE: {mape:.2f}%\")"
   ]
  },
  {
   "cell_type": "markdown",
   "metadata": {
    "id": "IKNXR9DCvLkj"
   },
   "source": [
    "### **Resultados PROPHET HIBRIDO**"
   ]
  },
  {
   "cell_type": "code",
   "execution_count": null,
   "metadata": {
    "colab": {
     "base_uri": "https://localhost:8080/"
    },
    "id": "aO8Knmpme7yt",
    "outputId": "1c6d70e4-ce2f-4c45-8db1-3c8e8ac9614d"
   },
   "outputs": [],
   "source": [
    "hibrido_test = df_prophet.iloc[train_size:].copy()\n",
    "hibrido_rmse = np.sqrt(mean_squared_error(hibrido_test['y'], hibrido_test['hibrido_y_pred_final']))\n",
    "hibrido_mae = mean_absolute_error(hibrido_test['y'], hibrido_test['hibrido_y_pred_final'])\n",
    "hibrido_mape = np.mean(np.abs((hibrido_test['y'] - hibrido_test['hibrido_y_pred_final']) / hibrido_test['y'])) * 100\n",
    "\n",
    "print(f\"PROPHET (hibrido) - RMSE: {hibrido_rmse:.2f}\")\n",
    "print(f\"PROPHET (hibrido) - MAE: {hibrido_mae:.2f}\")\n",
    "print(f\"PROPHET (hibrido) - MAPE: {hibrido_mape:.2f}%\")"
   ]
  },
  {
   "cell_type": "markdown",
   "metadata": {
    "id": "Nq9GXOBHnCc6"
   },
   "source": [
    "**Resultados PROPHET HIBRIDO Completo**"
   ]
  },
  {
   "cell_type": "code",
   "execution_count": null,
   "metadata": {
    "colab": {
     "base_uri": "https://localhost:8080/"
    },
    "id": "KFS3sEFdnA6A",
    "outputId": "656eb854-d479-4fd0-bdd1-57aab963d3c7"
   },
   "outputs": [],
   "source": [
    "# Métricas finales en el conjunto de test\n",
    "hibrido_test_full = df_prophet.iloc[train_size:].copy()\n",
    "\n",
    "rmse_full = np.sqrt(mean_squared_error(hibrido_test_full['y'], hibrido_test_full['hibrido_y_pred_full']))\n",
    "mae_full = mean_absolute_error(hibrido_test_full['y'], hibrido_test_full['hibrido_y_pred_full'])\n",
    "\n",
    "print(f\"RMSE (Modelo hibrido Final): {rmse_full:.2f}\")\n",
    "print(f\"MAE (Modelo hibrido Final): {mae_full:.2f}\")"
   ]
  },
  {
   "cell_type": "markdown",
   "metadata": {
    "id": "5rpHJyphQbwv"
   },
   "source": [
    "## **Fase 6**: Despliegue"
   ]
  },
  {
   "cell_type": "markdown",
   "metadata": {
    "id": "Z1MzE9d4SIws"
   },
   "source": [
    "**Hotel Resort**"
   ]
  },
  {
   "cell_type": "markdown",
   "metadata": {
    "id": "uWIhD06GGlJr"
   },
   "source": [
    "### **PROPHET**"
   ]
  },
  {
   "cell_type": "code",
   "execution_count": null,
   "metadata": {
    "colab": {
     "base_uri": "https://localhost:8080/",
     "height": 607
    },
    "id": "AHiTS1V4SNcu",
    "outputId": "99ad228c-62e6-41cc-f477-8c189dd0bdf9"
   },
   "outputs": [],
   "source": [
    "plt.figure(figsize=(12, 6))\n",
    "plt.plot(train['ds'], train['y'], label='Train (real)', color='blue')\n",
    "plt.plot(test['ds'], real, label='Test (real)', color='orange')\n",
    "plt.plot(test['ds'], pred, label='Predicción Prophet', color='green', linestyle='--')\n",
    "plt.title('Predicción con Prophet')\n",
    "plt.xlabel('Fecha')\n",
    "plt.ylabel('Ventas')\n",
    "plt.legend()\n",
    "plt.grid(True)\n",
    "plt.tight_layout()\n",
    "plt.show()"
   ]
  },
  {
   "cell_type": "markdown",
   "metadata": {
    "id": "hUoM-PuivAv1"
   },
   "source": [
    "### **PROPHET CONFIGURADO**"
   ]
  },
  {
   "cell_type": "code",
   "execution_count": null,
   "metadata": {
    "colab": {
     "base_uri": "https://localhost:8080/",
     "height": 607
    },
    "id": "08mUEpLhu-JF",
    "outputId": "ed731ccd-a70a-4fff-8742-c8659c984505"
   },
   "outputs": [],
   "source": [
    "plt.figure(figsize=(12, 6))\n",
    "plt.plot(results_conf['ds'][:train_size], results_conf['y'][:train_size], label='Train (real)', color='blue')\n",
    "plt.plot(results_conf['ds'][train_size:], results_conf['y'][train_size:], label='Test (real)', color='orange')\n",
    "plt.plot(results_conf['ds'][train_size:], results_conf['yhat'][train_size:], label='Predicción Prophet', color='green', linestyle='--')\n",
    "plt.xlabel('Fecha')\n",
    "plt.ylabel('TotalFactura')\n",
    "plt.title('Predicción Prophet - Separación Train/Test')\n",
    "plt.legend()\n",
    "plt.grid(True)\n",
    "plt.tight_layout()\n",
    "plt.show()"
   ]
  },
  {
   "cell_type": "markdown",
   "metadata": {
    "id": "0cpGLV6JRQfL"
   },
   "source": [
    "### **PROPHET HIBRIDO**"
   ]
  },
  {
   "cell_type": "code",
   "execution_count": null,
   "metadata": {
    "colab": {
     "base_uri": "https://localhost:8080/",
     "height": 607
    },
    "id": "1y3iIqtRfD0s",
    "outputId": "6e6d20dd-ec97-41ff-af13-ee9c310ff39d"
   },
   "outputs": [],
   "source": [
    "plt.figure(figsize=(12, 6))\n",
    "plt.plot(df_prophet['ds'][:train_size], df_prophet['y'][:train_size], label='Train Real', color='blue')\n",
    "plt.plot(df_prophet['ds'][train_size:], df_prophet['y'][train_size:], label='Test Real', color='orange')\n",
    "plt.plot(df_prophet['ds'][train_size:], df_prophet['hibrido_y_pred_final'][train_size:], label='Predicción Híbrida', color='green', linestyle='--')\n",
    "plt.legend()\n",
    "plt.grid(True)\n",
    "plt.xlabel(\"Fecha\")\n",
    "plt.ylabel(\"TotalFactura\")\n",
    "plt.title(\"Predicción Híbrida Prophet + FNN\")\n",
    "plt.tight_layout()\n",
    "plt.show()"
   ]
  },
  {
   "cell_type": "markdown",
   "metadata": {
    "id": "AAN-KSJ8nf7d"
   },
   "source": [
    "Grafica Hibrido Completo"
   ]
  },
  {
   "cell_type": "code",
   "execution_count": null,
   "metadata": {
    "colab": {
     "base_uri": "https://localhost:8080/",
     "height": 578
    },
    "id": "SmVky1ZdEaxI",
    "outputId": "a5eb74dc-2eb5-40c9-dbff-2c3ae22b94ba"
   },
   "outputs": [],
   "source": [
    "plt.figure(figsize=(14, 6))\n",
    "\n",
    "# Solo parte de entrenamiento\n",
    "plt.plot(df_prophet['ds'][:train_size], df_prophet['y'][:train_size], label='Train Real', color='blue')\n",
    "plt.plot(df_prophet['ds'][:train_size], df_prophet['hibrido_y_pred_full'][:train_size], label='Ajuste del Modelo (Hybrid)', linestyle='--', color='green')\n",
    "\n",
    "plt.xlabel(\"Fecha\")\n",
    "plt.ylabel(\"TotalFactura\")\n",
    "plt.title(\"Ajuste del Modelo en el Conjunto de Entrenamiento - Prophet + FNN + GP\")\n",
    "plt.legend()\n",
    "plt.grid(True)\n",
    "plt.tight_layout()\n",
    "plt.show()\n",
    "\n"
   ]
  },
  {
   "cell_type": "code",
   "execution_count": null,
   "metadata": {
    "colab": {
     "base_uri": "https://localhost:8080/",
     "height": 607
    },
    "id": "1qynawUOnZll",
    "outputId": "72a40d18-5f8a-4034-d53c-5cfba7643a6e"
   },
   "outputs": [],
   "source": [
    "plt.figure(figsize=(12, 6))\n",
    "plt.plot(df_prophet['ds'][:train_size], df_prophet['y'][:train_size], label='Train Real', color='blue')\n",
    "plt.plot(df_prophet['ds'][train_size:], df_prophet['y'][train_size:], label='Test Real', color='orange')\n",
    "plt.plot(df_prophet['ds'][train_size:], df_prophet['hibrido_y_pred_full'][train_size:], label='Predicción Prophet+FNN+GP', color='green', linestyle='--')\n",
    "plt.legend()\n",
    "plt.grid(True)\n",
    "plt.xlabel(\"Fecha\")\n",
    "plt.ylabel(\"TotalFactura\")\n",
    "plt.title(\"Predicción Híbrida (Prophet + FNN + Gaussian Process)\")\n",
    "plt.tight_layout()\n",
    "plt.show()\n"
   ]
  },
  {
   "cell_type": "code",
   "execution_count": null,
   "metadata": {
    "id": "DxAeeHQdry9B"
   },
   "outputs": [],
   "source": [
    "# Crear semanas futuras\n",
    "future_hibrido = modelo_hibrido.make_future_dataframe(periods=84, freq='W')\n",
    "forecast_hibrido = modelo_hibrido.predict(future_hibrido)\n",
    "\n",
    "# Agregar predicción base de Prophet\n",
    "forecast_hibrido['hibrido_yhat_prophet'] = forecast_hibrido['yhat']"
   ]
  },
  {
   "cell_type": "code",
   "execution_count": null,
   "metadata": {
    "id": "hw7cjSoWr0dt"
   },
   "outputs": [],
   "source": [
    "# Convertir fechas futuras a ordinal y normalizar\n",
    "forecast_hibrido['ds_ordinal'] = pd.to_datetime(forecast_hibrido['ds']).map(pd.Timestamp.toordinal)\n",
    "X_future = forecast_hibrido[['ds_ordinal']].values\n",
    "X_future_scaled = hibrido_scaler.transform(X_future)  # usar el scaler entrenado\n"
   ]
  },
  {
   "cell_type": "code",
   "execution_count": null,
   "metadata": {
    "colab": {
     "base_uri": "https://localhost:8080/"
    },
    "id": "YbYQn0ldr8Lx",
    "outputId": "c15f4bcc-852f-4f63-fb8c-36f27d60613f"
   },
   "outputs": [],
   "source": [
    "# Residual FNN\n",
    "residuals_fnn_future = hibrido_model_fnn.predict(X_future_scaled).flatten()\n",
    "\n",
    "# Residual GP\n",
    "residuals_gp_future = hibrido_gp.predict(X_future_scaled)\n",
    "\n",
    "# Sumar predicciones: Prophet + FNN + GP\n",
    "forecast_hibrido['hibrido_y_pred_final'] = forecast_hibrido['hibrido_yhat_prophet'] + residuals_fnn_future\n",
    "forecast_hibrido['hibrido_y_pred_full'] = forecast_hibrido['hibrido_y_pred_final'] + residuals_gp_future\n"
   ]
  },
  {
   "cell_type": "code",
   "execution_count": null,
   "metadata": {
    "colab": {
     "base_uri": "https://localhost:8080/",
     "height": 578
    },
    "id": "5WS7yD75sAEb",
    "outputId": "c18ba250-774d-4260-8859-040693986a91"
   },
   "outputs": [],
   "source": [
    "plt.figure(figsize=(14, 6))\n",
    "plt.plot(df_prophet['ds'], df_prophet['y'], label='Histórico Real', color='blue')\n",
    "plt.plot(df_prophet['ds'], df_prophet['hibrido_y_pred_full'], label='Predicción Histórica (Hybrid)', linestyle='--', color='green')\n",
    "plt.plot(forecast_hibrido['ds'][-52:], forecast_hibrido['hibrido_y_pred_full'][-52:], label='Predicción Futura (Hybrid)', linestyle='--', color='red')\n",
    "plt.axvline(x=df_prophet['ds'].iloc[-1], color='black', linestyle='dotted', label='Inicio predicción futura')\n",
    "plt.xlabel(\"Fecha\")\n",
    "plt.ylabel(\"TotalFactura\")\n",
    "plt.title(\"Predicción Futura 1 Año - Modelo Híbrido (Prophet + FNN + GP)\")\n",
    "plt.legend()\n",
    "plt.grid(True)\n",
    "plt.tight_layout()\n",
    "\n",
    "plt.savefig(r\"../Graficos/prediccion_Prophet.png\", dpi=300)\n",
    "\n",
    "plt.show()"
   ]
  },
  {
   "cell_type": "code",
   "execution_count": null,
   "metadata": {
    "id": "VBBbXyJk-Ono"
   },
   "outputs": [],
   "source": [
    "import pandas as pd\n",
    "\n",
    "df_historico = df_prophet[['ds', 'y', 'hibrido_y_pred_full']].copy()\n",
    "\n",
    "df_futuro = forecast_hibrido[['ds', 'hibrido_y_pred_full']].copy()\n",
    "\n",
    "df_final = pd.concat([df_historico, df_futuro], ignore_index=True)\n",
    "\n",
    "df_final.rename(columns={\n",
    "    'ds': 'Fecha',\n",
    "    'hibrido_y_pred_full': 'Prediccion_Hibrida'\n",
    "}, inplace=True)\n",
    "\n",
    "# Guardamos a CSV\n",
    "#df_final.to_csv('prediccion_hibrida_historico_futuro.csv', index=False)\n",
    "#print(\"CSV guardado como 'prediccion_hibrida_historico_futuro.csv'\")\n"
   ]
  },
  {
   "cell_type": "code",
   "execution_count": null,
   "metadata": {
    "colab": {
     "base_uri": "https://localhost:8080/",
     "height": 423
    },
    "id": "yuwFQLus-mDc",
    "outputId": "7a45b849-fb2f-4160-edcc-05c63a41b89f"
   },
   "outputs": [],
   "source": [
    "df_futuro"
   ]
  },
  {
   "cell_type": "code",
   "execution_count": null,
   "metadata": {
    "colab": {
     "base_uri": "https://localhost:8080/",
     "height": 1000
    },
    "id": "4MqwWzVQl-LH",
    "outputId": "16c923ca-eff9-47b8-bdd9-fe4793c2c7c1"
   },
   "outputs": [],
   "source": [
    "df_ultimosPrediccion = df_futuro.tail(51)\n",
    "df_ultimosPrediccion"
   ]
  },
  {
   "cell_type": "code",
   "execution_count": null,
   "metadata": {
    "colab": {
     "base_uri": "https://localhost:8080/"
    },
    "id": "zZEf1oQTn8hu",
    "outputId": "388e70b9-234b-49a6-cd8c-4439231ee7d0"
   },
   "outputs": [],
   "source": [
    "df_ultimosPrediccion.to_csv(r\"../Documentos/prediccion_Prophet_hibrida.csv\", index=False)\n",
    "print(\"CSV guardado como 'prediccion_hibrida_historico_futuro.csv'\")"
   ]
  }
 ],
 "metadata": {
  "colab": {
   "provenance": []
  },
  "kernelspec": {
   "display_name": "Python 3 (ipykernel)",
   "language": "python",
   "name": "python3"
  },
  "language_info": {
   "codemirror_mode": {
    "name": "ipython",
    "version": 3
   },
   "file_extension": ".py",
   "mimetype": "text/x-python",
   "name": "python",
   "nbconvert_exporter": "python",
   "pygments_lexer": "ipython3",
   "version": "3.12.4"
  }
 },
 "nbformat": 4,
 "nbformat_minor": 4
}
